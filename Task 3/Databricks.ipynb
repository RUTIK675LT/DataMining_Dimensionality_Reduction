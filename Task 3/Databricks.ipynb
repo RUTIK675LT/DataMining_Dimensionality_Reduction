{
 "cells": [
  {
   "cell_type": "markdown",
   "metadata": {
    "application/vnd.databricks.v1+cell": {
     "cellMetadata": {
      "byteLimit": 2048000,
      "rowLimit": 10000
     },
     "inputWidgets": {},
     "nuid": "96816ed7-b08a-4ca3-abb9-f99880c3535d",
     "showTitle": false,
     "title": ""
    }
   },
   "source": [
    "\n",
    "## Overview\n",
    "\n",
    "This notebook will show you how to create and query a table or DataFrame that you uploaded to DBFS. [DBFS](https://docs.databricks.com/user-guide/dbfs-databricks-file-system.html) is a Databricks File System that allows you to store data for querying inside of Databricks. This notebook assumes that you have a file already inside of DBFS that you would like to read from.\n",
    "\n",
    "This notebook is written in **Python** so the default cell type is Python. However, you can use different languages by using the `%LANGUAGE` syntax. Python, Scala, SQL, and R are all supported."
   ]
  },
  {
   "cell_type": "code",
   "execution_count": 0,
   "metadata": {
    "application/vnd.databricks.v1+cell": {
     "cellMetadata": {
      "byteLimit": 2048000,
      "rowLimit": 10000
     },
     "inputWidgets": {},
     "nuid": "6482be4c-f067-47c9-b0ac-35c938b94601",
     "showTitle": false,
     "title": ""
    }
   },
   "outputs": [
    {
     "output_type": "display_data",
     "data": {
      "text/html": [
       "<style scoped>\n",
       "  .table-result-container {\n",
       "    max-height: 300px;\n",
       "    overflow: auto;\n",
       "  }\n",
       "  table, th, td {\n",
       "    border: 1px solid black;\n",
       "    border-collapse: collapse;\n",
       "  }\n",
       "  th, td {\n",
       "    padding: 5px;\n",
       "  }\n",
       "  th {\n",
       "    text-align: left;\n",
       "  }\n",
       "</style><div class='table-result-container'><table class='table-result'><thead style='background-color: white'><tr><th>_c0</th><th>_c1</th><th>_c2</th><th>_c3</th><th>_c4</th></tr></thead><tbody><tr><td>sepal length (cm)</td><td>sepal width (cm)</td><td>petal length (cm)</td><td>petal width (cm)</td><td>species</td></tr><tr><td>5.1</td><td>3.5</td><td>1.4</td><td>0.2</td><td>setosa</td></tr><tr><td>4.9</td><td>3.0</td><td>1.4</td><td>0.2</td><td>setosa</td></tr><tr><td>4.7</td><td>3.2</td><td>1.3</td><td>0.2</td><td>setosa</td></tr><tr><td>4.6</td><td>3.1</td><td>1.5</td><td>0.2</td><td>setosa</td></tr><tr><td>5.0</td><td>3.6</td><td>1.4</td><td>0.2</td><td>setosa</td></tr><tr><td>5.4</td><td>3.9</td><td>1.7</td><td>0.4</td><td>setosa</td></tr><tr><td>4.6</td><td>3.4</td><td>1.4</td><td>0.3</td><td>setosa</td></tr><tr><td>5.0</td><td>3.4</td><td>1.5</td><td>0.2</td><td>setosa</td></tr><tr><td>4.4</td><td>2.9</td><td>1.4</td><td>0.2</td><td>setosa</td></tr><tr><td>4.9</td><td>3.1</td><td>1.5</td><td>0.1</td><td>setosa</td></tr><tr><td>5.4</td><td>3.7</td><td>1.5</td><td>0.2</td><td>setosa</td></tr><tr><td>4.8</td><td>3.4</td><td>1.6</td><td>0.2</td><td>setosa</td></tr><tr><td>4.8</td><td>3.0</td><td>1.4</td><td>0.1</td><td>setosa</td></tr><tr><td>4.3</td><td>3.0</td><td>1.1</td><td>0.1</td><td>setosa</td></tr><tr><td>5.8</td><td>4.0</td><td>1.2</td><td>0.2</td><td>setosa</td></tr><tr><td>5.7</td><td>4.4</td><td>1.5</td><td>0.4</td><td>setosa</td></tr><tr><td>5.4</td><td>3.9</td><td>1.3</td><td>0.4</td><td>setosa</td></tr><tr><td>5.1</td><td>3.5</td><td>1.4</td><td>0.3</td><td>setosa</td></tr><tr><td>5.7</td><td>3.8</td><td>1.7</td><td>0.3</td><td>setosa</td></tr><tr><td>5.1</td><td>3.8</td><td>1.5</td><td>0.3</td><td>setosa</td></tr><tr><td>5.4</td><td>3.4</td><td>1.7</td><td>0.2</td><td>setosa</td></tr><tr><td>5.1</td><td>3.7</td><td>1.5</td><td>0.4</td><td>setosa</td></tr><tr><td>4.6</td><td>3.6</td><td>1.0</td><td>0.2</td><td>setosa</td></tr><tr><td>5.1</td><td>3.3</td><td>1.7</td><td>0.5</td><td>setosa</td></tr><tr><td>4.8</td><td>3.4</td><td>1.9</td><td>0.2</td><td>setosa</td></tr><tr><td>5.0</td><td>3.0</td><td>1.6</td><td>0.2</td><td>setosa</td></tr><tr><td>5.0</td><td>3.4</td><td>1.6</td><td>0.4</td><td>setosa</td></tr><tr><td>5.2</td><td>3.5</td><td>1.5</td><td>0.2</td><td>setosa</td></tr><tr><td>5.2</td><td>3.4</td><td>1.4</td><td>0.2</td><td>setosa</td></tr><tr><td>4.7</td><td>3.2</td><td>1.6</td><td>0.2</td><td>setosa</td></tr><tr><td>4.8</td><td>3.1</td><td>1.6</td><td>0.2</td><td>setosa</td></tr><tr><td>5.4</td><td>3.4</td><td>1.5</td><td>0.4</td><td>setosa</td></tr><tr><td>5.2</td><td>4.1</td><td>1.5</td><td>0.1</td><td>setosa</td></tr><tr><td>5.5</td><td>4.2</td><td>1.4</td><td>0.2</td><td>setosa</td></tr><tr><td>4.9</td><td>3.1</td><td>1.5</td><td>0.2</td><td>setosa</td></tr><tr><td>5.0</td><td>3.2</td><td>1.2</td><td>0.2</td><td>setosa</td></tr><tr><td>5.5</td><td>3.5</td><td>1.3</td><td>0.2</td><td>setosa</td></tr><tr><td>4.9</td><td>3.6</td><td>1.4</td><td>0.1</td><td>setosa</td></tr><tr><td>4.4</td><td>3.0</td><td>1.3</td><td>0.2</td><td>setosa</td></tr><tr><td>5.1</td><td>3.4</td><td>1.5</td><td>0.2</td><td>setosa</td></tr><tr><td>5.0</td><td>3.5</td><td>1.3</td><td>0.3</td><td>setosa</td></tr><tr><td>4.5</td><td>2.3</td><td>1.3</td><td>0.3</td><td>setosa</td></tr><tr><td>4.4</td><td>3.2</td><td>1.3</td><td>0.2</td><td>setosa</td></tr><tr><td>5.0</td><td>3.5</td><td>1.6</td><td>0.6</td><td>setosa</td></tr><tr><td>5.1</td><td>3.8</td><td>1.9</td><td>0.4</td><td>setosa</td></tr><tr><td>4.8</td><td>3.0</td><td>1.4</td><td>0.3</td><td>setosa</td></tr><tr><td>5.1</td><td>3.8</td><td>1.6</td><td>0.2</td><td>setosa</td></tr><tr><td>4.6</td><td>3.2</td><td>1.4</td><td>0.2</td><td>setosa</td></tr><tr><td>5.3</td><td>3.7</td><td>1.5</td><td>0.2</td><td>setosa</td></tr><tr><td>5.0</td><td>3.3</td><td>1.4</td><td>0.2</td><td>setosa</td></tr><tr><td>7.0</td><td>3.2</td><td>4.7</td><td>1.4</td><td>versicolor</td></tr><tr><td>6.4</td><td>3.2</td><td>4.5</td><td>1.5</td><td>versicolor</td></tr><tr><td>6.9</td><td>3.1</td><td>4.9</td><td>1.5</td><td>versicolor</td></tr><tr><td>5.5</td><td>2.3</td><td>4.0</td><td>1.3</td><td>versicolor</td></tr><tr><td>6.5</td><td>2.8</td><td>4.6</td><td>1.5</td><td>versicolor</td></tr><tr><td>5.7</td><td>2.8</td><td>4.5</td><td>1.3</td><td>versicolor</td></tr><tr><td>6.3</td><td>3.3</td><td>4.7</td><td>1.6</td><td>versicolor</td></tr><tr><td>4.9</td><td>2.4</td><td>3.3</td><td>1.0</td><td>versicolor</td></tr><tr><td>6.6</td><td>2.9</td><td>4.6</td><td>1.3</td><td>versicolor</td></tr><tr><td>5.2</td><td>2.7</td><td>3.9</td><td>1.4</td><td>versicolor</td></tr><tr><td>5.0</td><td>2.0</td><td>3.5</td><td>1.0</td><td>versicolor</td></tr><tr><td>5.9</td><td>3.0</td><td>4.2</td><td>1.5</td><td>versicolor</td></tr><tr><td>6.0</td><td>2.2</td><td>4.0</td><td>1.0</td><td>versicolor</td></tr><tr><td>6.1</td><td>2.9</td><td>4.7</td><td>1.4</td><td>versicolor</td></tr><tr><td>5.6</td><td>2.9</td><td>3.6</td><td>1.3</td><td>versicolor</td></tr><tr><td>6.7</td><td>3.1</td><td>4.4</td><td>1.4</td><td>versicolor</td></tr><tr><td>5.6</td><td>3.0</td><td>4.5</td><td>1.5</td><td>versicolor</td></tr><tr><td>5.8</td><td>2.7</td><td>4.1</td><td>1.0</td><td>versicolor</td></tr><tr><td>6.2</td><td>2.2</td><td>4.5</td><td>1.5</td><td>versicolor</td></tr><tr><td>5.6</td><td>2.5</td><td>3.9</td><td>1.1</td><td>versicolor</td></tr><tr><td>5.9</td><td>3.2</td><td>4.8</td><td>1.8</td><td>versicolor</td></tr><tr><td>6.1</td><td>2.8</td><td>4.0</td><td>1.3</td><td>versicolor</td></tr><tr><td>6.3</td><td>2.5</td><td>4.9</td><td>1.5</td><td>versicolor</td></tr><tr><td>6.1</td><td>2.8</td><td>4.7</td><td>1.2</td><td>versicolor</td></tr><tr><td>6.4</td><td>2.9</td><td>4.3</td><td>1.3</td><td>versicolor</td></tr><tr><td>6.6</td><td>3.0</td><td>4.4</td><td>1.4</td><td>versicolor</td></tr><tr><td>6.8</td><td>2.8</td><td>4.8</td><td>1.4</td><td>versicolor</td></tr><tr><td>6.7</td><td>3.0</td><td>5.0</td><td>1.7</td><td>versicolor</td></tr><tr><td>6.0</td><td>2.9</td><td>4.5</td><td>1.5</td><td>versicolor</td></tr><tr><td>5.7</td><td>2.6</td><td>3.5</td><td>1.0</td><td>versicolor</td></tr><tr><td>5.5</td><td>2.4</td><td>3.8</td><td>1.1</td><td>versicolor</td></tr><tr><td>5.5</td><td>2.4</td><td>3.7</td><td>1.0</td><td>versicolor</td></tr><tr><td>5.8</td><td>2.7</td><td>3.9</td><td>1.2</td><td>versicolor</td></tr><tr><td>6.0</td><td>2.7</td><td>5.1</td><td>1.6</td><td>versicolor</td></tr><tr><td>5.4</td><td>3.0</td><td>4.5</td><td>1.5</td><td>versicolor</td></tr><tr><td>6.0</td><td>3.4</td><td>4.5</td><td>1.6</td><td>versicolor</td></tr><tr><td>6.7</td><td>3.1</td><td>4.7</td><td>1.5</td><td>versicolor</td></tr><tr><td>6.3</td><td>2.3</td><td>4.4</td><td>1.3</td><td>versicolor</td></tr><tr><td>5.6</td><td>3.0</td><td>4.1</td><td>1.3</td><td>versicolor</td></tr><tr><td>5.5</td><td>2.5</td><td>4.0</td><td>1.3</td><td>versicolor</td></tr><tr><td>5.5</td><td>2.6</td><td>4.4</td><td>1.2</td><td>versicolor</td></tr><tr><td>6.1</td><td>3.0</td><td>4.6</td><td>1.4</td><td>versicolor</td></tr><tr><td>5.8</td><td>2.6</td><td>4.0</td><td>1.2</td><td>versicolor</td></tr><tr><td>5.0</td><td>2.3</td><td>3.3</td><td>1.0</td><td>versicolor</td></tr><tr><td>5.6</td><td>2.7</td><td>4.2</td><td>1.3</td><td>versicolor</td></tr><tr><td>5.7</td><td>3.0</td><td>4.2</td><td>1.2</td><td>versicolor</td></tr><tr><td>5.7</td><td>2.9</td><td>4.2</td><td>1.3</td><td>versicolor</td></tr><tr><td>6.2</td><td>2.9</td><td>4.3</td><td>1.3</td><td>versicolor</td></tr><tr><td>5.1</td><td>2.5</td><td>3.0</td><td>1.1</td><td>versicolor</td></tr><tr><td>5.7</td><td>2.8</td><td>4.1</td><td>1.3</td><td>versicolor</td></tr><tr><td>6.3</td><td>3.3</td><td>6.0</td><td>2.5</td><td>virginica</td></tr><tr><td>5.8</td><td>2.7</td><td>5.1</td><td>1.9</td><td>virginica</td></tr><tr><td>7.1</td><td>3.0</td><td>5.9</td><td>2.1</td><td>virginica</td></tr><tr><td>6.3</td><td>2.9</td><td>5.6</td><td>1.8</td><td>virginica</td></tr><tr><td>6.5</td><td>3.0</td><td>5.8</td><td>2.2</td><td>virginica</td></tr><tr><td>7.6</td><td>3.0</td><td>6.6</td><td>2.1</td><td>virginica</td></tr><tr><td>4.9</td><td>2.5</td><td>4.5</td><td>1.7</td><td>virginica</td></tr><tr><td>7.3</td><td>2.9</td><td>6.3</td><td>1.8</td><td>virginica</td></tr><tr><td>6.7</td><td>2.5</td><td>5.8</td><td>1.8</td><td>virginica</td></tr><tr><td>7.2</td><td>3.6</td><td>6.1</td><td>2.5</td><td>virginica</td></tr><tr><td>6.5</td><td>3.2</td><td>5.1</td><td>2.0</td><td>virginica</td></tr><tr><td>6.4</td><td>2.7</td><td>5.3</td><td>1.9</td><td>virginica</td></tr><tr><td>6.8</td><td>3.0</td><td>5.5</td><td>2.1</td><td>virginica</td></tr><tr><td>5.7</td><td>2.5</td><td>5.0</td><td>2.0</td><td>virginica</td></tr><tr><td>5.8</td><td>2.8</td><td>5.1</td><td>2.4</td><td>virginica</td></tr><tr><td>6.4</td><td>3.2</td><td>5.3</td><td>2.3</td><td>virginica</td></tr><tr><td>6.5</td><td>3.0</td><td>5.5</td><td>1.8</td><td>virginica</td></tr><tr><td>7.7</td><td>3.8</td><td>6.7</td><td>2.2</td><td>virginica</td></tr><tr><td>7.7</td><td>2.6</td><td>6.9</td><td>2.3</td><td>virginica</td></tr><tr><td>6.0</td><td>2.2</td><td>5.0</td><td>1.5</td><td>virginica</td></tr><tr><td>6.9</td><td>3.2</td><td>5.7</td><td>2.3</td><td>virginica</td></tr><tr><td>5.6</td><td>2.8</td><td>4.9</td><td>2.0</td><td>virginica</td></tr><tr><td>7.7</td><td>2.8</td><td>6.7</td><td>2.0</td><td>virginica</td></tr><tr><td>6.3</td><td>2.7</td><td>4.9</td><td>1.8</td><td>virginica</td></tr><tr><td>6.7</td><td>3.3</td><td>5.7</td><td>2.1</td><td>virginica</td></tr><tr><td>7.2</td><td>3.2</td><td>6.0</td><td>1.8</td><td>virginica</td></tr><tr><td>6.2</td><td>2.8</td><td>4.8</td><td>1.8</td><td>virginica</td></tr><tr><td>6.1</td><td>3.0</td><td>4.9</td><td>1.8</td><td>virginica</td></tr><tr><td>6.4</td><td>2.8</td><td>5.6</td><td>2.1</td><td>virginica</td></tr><tr><td>7.2</td><td>3.0</td><td>5.8</td><td>1.6</td><td>virginica</td></tr><tr><td>7.4</td><td>2.8</td><td>6.1</td><td>1.9</td><td>virginica</td></tr><tr><td>7.9</td><td>3.8</td><td>6.4</td><td>2.0</td><td>virginica</td></tr><tr><td>6.4</td><td>2.8</td><td>5.6</td><td>2.2</td><td>virginica</td></tr><tr><td>6.3</td><td>2.8</td><td>5.1</td><td>1.5</td><td>virginica</td></tr><tr><td>6.1</td><td>2.6</td><td>5.6</td><td>1.4</td><td>virginica</td></tr><tr><td>7.7</td><td>3.0</td><td>6.1</td><td>2.3</td><td>virginica</td></tr><tr><td>6.3</td><td>3.4</td><td>5.6</td><td>2.4</td><td>virginica</td></tr><tr><td>6.4</td><td>3.1</td><td>5.5</td><td>1.8</td><td>virginica</td></tr><tr><td>6.0</td><td>3.0</td><td>4.8</td><td>1.8</td><td>virginica</td></tr><tr><td>6.9</td><td>3.1</td><td>5.4</td><td>2.1</td><td>virginica</td></tr><tr><td>6.7</td><td>3.1</td><td>5.6</td><td>2.4</td><td>virginica</td></tr><tr><td>6.9</td><td>3.1</td><td>5.1</td><td>2.3</td><td>virginica</td></tr><tr><td>5.8</td><td>2.7</td><td>5.1</td><td>1.9</td><td>virginica</td></tr><tr><td>6.8</td><td>3.2</td><td>5.9</td><td>2.3</td><td>virginica</td></tr><tr><td>6.7</td><td>3.3</td><td>5.7</td><td>2.5</td><td>virginica</td></tr><tr><td>6.7</td><td>3.0</td><td>5.2</td><td>2.3</td><td>virginica</td></tr><tr><td>6.3</td><td>2.5</td><td>5.0</td><td>1.9</td><td>virginica</td></tr><tr><td>6.5</td><td>3.0</td><td>5.2</td><td>2.0</td><td>virginica</td></tr><tr><td>6.2</td><td>3.4</td><td>5.4</td><td>2.3</td><td>virginica</td></tr><tr><td>5.9</td><td>3.0</td><td>5.1</td><td>1.8</td><td>virginica</td></tr></tbody></table></div>"
      ]
     },
     "metadata": {
      "application/vnd.databricks.v1+output": {
       "addedWidgets": {},
       "aggData": [],
       "aggError": "",
       "aggOverflow": false,
       "aggSchema": [],
       "aggSeriesLimitReached": false,
       "aggType": "",
       "arguments": {},
       "columnCustomDisplayInfos": {},
       "data": [
        [
         "sepal length (cm)",
         "sepal width (cm)",
         "petal length (cm)",
         "petal width (cm)",
         "species"
        ],
        [
         "5.1",
         "3.5",
         "1.4",
         "0.2",
         "setosa"
        ],
        [
         "4.9",
         "3.0",
         "1.4",
         "0.2",
         "setosa"
        ],
        [
         "4.7",
         "3.2",
         "1.3",
         "0.2",
         "setosa"
        ],
        [
         "4.6",
         "3.1",
         "1.5",
         "0.2",
         "setosa"
        ],
        [
         "5.0",
         "3.6",
         "1.4",
         "0.2",
         "setosa"
        ],
        [
         "5.4",
         "3.9",
         "1.7",
         "0.4",
         "setosa"
        ],
        [
         "4.6",
         "3.4",
         "1.4",
         "0.3",
         "setosa"
        ],
        [
         "5.0",
         "3.4",
         "1.5",
         "0.2",
         "setosa"
        ],
        [
         "4.4",
         "2.9",
         "1.4",
         "0.2",
         "setosa"
        ],
        [
         "4.9",
         "3.1",
         "1.5",
         "0.1",
         "setosa"
        ],
        [
         "5.4",
         "3.7",
         "1.5",
         "0.2",
         "setosa"
        ],
        [
         "4.8",
         "3.4",
         "1.6",
         "0.2",
         "setosa"
        ],
        [
         "4.8",
         "3.0",
         "1.4",
         "0.1",
         "setosa"
        ],
        [
         "4.3",
         "3.0",
         "1.1",
         "0.1",
         "setosa"
        ],
        [
         "5.8",
         "4.0",
         "1.2",
         "0.2",
         "setosa"
        ],
        [
         "5.7",
         "4.4",
         "1.5",
         "0.4",
         "setosa"
        ],
        [
         "5.4",
         "3.9",
         "1.3",
         "0.4",
         "setosa"
        ],
        [
         "5.1",
         "3.5",
         "1.4",
         "0.3",
         "setosa"
        ],
        [
         "5.7",
         "3.8",
         "1.7",
         "0.3",
         "setosa"
        ],
        [
         "5.1",
         "3.8",
         "1.5",
         "0.3",
         "setosa"
        ],
        [
         "5.4",
         "3.4",
         "1.7",
         "0.2",
         "setosa"
        ],
        [
         "5.1",
         "3.7",
         "1.5",
         "0.4",
         "setosa"
        ],
        [
         "4.6",
         "3.6",
         "1.0",
         "0.2",
         "setosa"
        ],
        [
         "5.1",
         "3.3",
         "1.7",
         "0.5",
         "setosa"
        ],
        [
         "4.8",
         "3.4",
         "1.9",
         "0.2",
         "setosa"
        ],
        [
         "5.0",
         "3.0",
         "1.6",
         "0.2",
         "setosa"
        ],
        [
         "5.0",
         "3.4",
         "1.6",
         "0.4",
         "setosa"
        ],
        [
         "5.2",
         "3.5",
         "1.5",
         "0.2",
         "setosa"
        ],
        [
         "5.2",
         "3.4",
         "1.4",
         "0.2",
         "setosa"
        ],
        [
         "4.7",
         "3.2",
         "1.6",
         "0.2",
         "setosa"
        ],
        [
         "4.8",
         "3.1",
         "1.6",
         "0.2",
         "setosa"
        ],
        [
         "5.4",
         "3.4",
         "1.5",
         "0.4",
         "setosa"
        ],
        [
         "5.2",
         "4.1",
         "1.5",
         "0.1",
         "setosa"
        ],
        [
         "5.5",
         "4.2",
         "1.4",
         "0.2",
         "setosa"
        ],
        [
         "4.9",
         "3.1",
         "1.5",
         "0.2",
         "setosa"
        ],
        [
         "5.0",
         "3.2",
         "1.2",
         "0.2",
         "setosa"
        ],
        [
         "5.5",
         "3.5",
         "1.3",
         "0.2",
         "setosa"
        ],
        [
         "4.9",
         "3.6",
         "1.4",
         "0.1",
         "setosa"
        ],
        [
         "4.4",
         "3.0",
         "1.3",
         "0.2",
         "setosa"
        ],
        [
         "5.1",
         "3.4",
         "1.5",
         "0.2",
         "setosa"
        ],
        [
         "5.0",
         "3.5",
         "1.3",
         "0.3",
         "setosa"
        ],
        [
         "4.5",
         "2.3",
         "1.3",
         "0.3",
         "setosa"
        ],
        [
         "4.4",
         "3.2",
         "1.3",
         "0.2",
         "setosa"
        ],
        [
         "5.0",
         "3.5",
         "1.6",
         "0.6",
         "setosa"
        ],
        [
         "5.1",
         "3.8",
         "1.9",
         "0.4",
         "setosa"
        ],
        [
         "4.8",
         "3.0",
         "1.4",
         "0.3",
         "setosa"
        ],
        [
         "5.1",
         "3.8",
         "1.6",
         "0.2",
         "setosa"
        ],
        [
         "4.6",
         "3.2",
         "1.4",
         "0.2",
         "setosa"
        ],
        [
         "5.3",
         "3.7",
         "1.5",
         "0.2",
         "setosa"
        ],
        [
         "5.0",
         "3.3",
         "1.4",
         "0.2",
         "setosa"
        ],
        [
         "7.0",
         "3.2",
         "4.7",
         "1.4",
         "versicolor"
        ],
        [
         "6.4",
         "3.2",
         "4.5",
         "1.5",
         "versicolor"
        ],
        [
         "6.9",
         "3.1",
         "4.9",
         "1.5",
         "versicolor"
        ],
        [
         "5.5",
         "2.3",
         "4.0",
         "1.3",
         "versicolor"
        ],
        [
         "6.5",
         "2.8",
         "4.6",
         "1.5",
         "versicolor"
        ],
        [
         "5.7",
         "2.8",
         "4.5",
         "1.3",
         "versicolor"
        ],
        [
         "6.3",
         "3.3",
         "4.7",
         "1.6",
         "versicolor"
        ],
        [
         "4.9",
         "2.4",
         "3.3",
         "1.0",
         "versicolor"
        ],
        [
         "6.6",
         "2.9",
         "4.6",
         "1.3",
         "versicolor"
        ],
        [
         "5.2",
         "2.7",
         "3.9",
         "1.4",
         "versicolor"
        ],
        [
         "5.0",
         "2.0",
         "3.5",
         "1.0",
         "versicolor"
        ],
        [
         "5.9",
         "3.0",
         "4.2",
         "1.5",
         "versicolor"
        ],
        [
         "6.0",
         "2.2",
         "4.0",
         "1.0",
         "versicolor"
        ],
        [
         "6.1",
         "2.9",
         "4.7",
         "1.4",
         "versicolor"
        ],
        [
         "5.6",
         "2.9",
         "3.6",
         "1.3",
         "versicolor"
        ],
        [
         "6.7",
         "3.1",
         "4.4",
         "1.4",
         "versicolor"
        ],
        [
         "5.6",
         "3.0",
         "4.5",
         "1.5",
         "versicolor"
        ],
        [
         "5.8",
         "2.7",
         "4.1",
         "1.0",
         "versicolor"
        ],
        [
         "6.2",
         "2.2",
         "4.5",
         "1.5",
         "versicolor"
        ],
        [
         "5.6",
         "2.5",
         "3.9",
         "1.1",
         "versicolor"
        ],
        [
         "5.9",
         "3.2",
         "4.8",
         "1.8",
         "versicolor"
        ],
        [
         "6.1",
         "2.8",
         "4.0",
         "1.3",
         "versicolor"
        ],
        [
         "6.3",
         "2.5",
         "4.9",
         "1.5",
         "versicolor"
        ],
        [
         "6.1",
         "2.8",
         "4.7",
         "1.2",
         "versicolor"
        ],
        [
         "6.4",
         "2.9",
         "4.3",
         "1.3",
         "versicolor"
        ],
        [
         "6.6",
         "3.0",
         "4.4",
         "1.4",
         "versicolor"
        ],
        [
         "6.8",
         "2.8",
         "4.8",
         "1.4",
         "versicolor"
        ],
        [
         "6.7",
         "3.0",
         "5.0",
         "1.7",
         "versicolor"
        ],
        [
         "6.0",
         "2.9",
         "4.5",
         "1.5",
         "versicolor"
        ],
        [
         "5.7",
         "2.6",
         "3.5",
         "1.0",
         "versicolor"
        ],
        [
         "5.5",
         "2.4",
         "3.8",
         "1.1",
         "versicolor"
        ],
        [
         "5.5",
         "2.4",
         "3.7",
         "1.0",
         "versicolor"
        ],
        [
         "5.8",
         "2.7",
         "3.9",
         "1.2",
         "versicolor"
        ],
        [
         "6.0",
         "2.7",
         "5.1",
         "1.6",
         "versicolor"
        ],
        [
         "5.4",
         "3.0",
         "4.5",
         "1.5",
         "versicolor"
        ],
        [
         "6.0",
         "3.4",
         "4.5",
         "1.6",
         "versicolor"
        ],
        [
         "6.7",
         "3.1",
         "4.7",
         "1.5",
         "versicolor"
        ],
        [
         "6.3",
         "2.3",
         "4.4",
         "1.3",
         "versicolor"
        ],
        [
         "5.6",
         "3.0",
         "4.1",
         "1.3",
         "versicolor"
        ],
        [
         "5.5",
         "2.5",
         "4.0",
         "1.3",
         "versicolor"
        ],
        [
         "5.5",
         "2.6",
         "4.4",
         "1.2",
         "versicolor"
        ],
        [
         "6.1",
         "3.0",
         "4.6",
         "1.4",
         "versicolor"
        ],
        [
         "5.8",
         "2.6",
         "4.0",
         "1.2",
         "versicolor"
        ],
        [
         "5.0",
         "2.3",
         "3.3",
         "1.0",
         "versicolor"
        ],
        [
         "5.6",
         "2.7",
         "4.2",
         "1.3",
         "versicolor"
        ],
        [
         "5.7",
         "3.0",
         "4.2",
         "1.2",
         "versicolor"
        ],
        [
         "5.7",
         "2.9",
         "4.2",
         "1.3",
         "versicolor"
        ],
        [
         "6.2",
         "2.9",
         "4.3",
         "1.3",
         "versicolor"
        ],
        [
         "5.1",
         "2.5",
         "3.0",
         "1.1",
         "versicolor"
        ],
        [
         "5.7",
         "2.8",
         "4.1",
         "1.3",
         "versicolor"
        ],
        [
         "6.3",
         "3.3",
         "6.0",
         "2.5",
         "virginica"
        ],
        [
         "5.8",
         "2.7",
         "5.1",
         "1.9",
         "virginica"
        ],
        [
         "7.1",
         "3.0",
         "5.9",
         "2.1",
         "virginica"
        ],
        [
         "6.3",
         "2.9",
         "5.6",
         "1.8",
         "virginica"
        ],
        [
         "6.5",
         "3.0",
         "5.8",
         "2.2",
         "virginica"
        ],
        [
         "7.6",
         "3.0",
         "6.6",
         "2.1",
         "virginica"
        ],
        [
         "4.9",
         "2.5",
         "4.5",
         "1.7",
         "virginica"
        ],
        [
         "7.3",
         "2.9",
         "6.3",
         "1.8",
         "virginica"
        ],
        [
         "6.7",
         "2.5",
         "5.8",
         "1.8",
         "virginica"
        ],
        [
         "7.2",
         "3.6",
         "6.1",
         "2.5",
         "virginica"
        ],
        [
         "6.5",
         "3.2",
         "5.1",
         "2.0",
         "virginica"
        ],
        [
         "6.4",
         "2.7",
         "5.3",
         "1.9",
         "virginica"
        ],
        [
         "6.8",
         "3.0",
         "5.5",
         "2.1",
         "virginica"
        ],
        [
         "5.7",
         "2.5",
         "5.0",
         "2.0",
         "virginica"
        ],
        [
         "5.8",
         "2.8",
         "5.1",
         "2.4",
         "virginica"
        ],
        [
         "6.4",
         "3.2",
         "5.3",
         "2.3",
         "virginica"
        ],
        [
         "6.5",
         "3.0",
         "5.5",
         "1.8",
         "virginica"
        ],
        [
         "7.7",
         "3.8",
         "6.7",
         "2.2",
         "virginica"
        ],
        [
         "7.7",
         "2.6",
         "6.9",
         "2.3",
         "virginica"
        ],
        [
         "6.0",
         "2.2",
         "5.0",
         "1.5",
         "virginica"
        ],
        [
         "6.9",
         "3.2",
         "5.7",
         "2.3",
         "virginica"
        ],
        [
         "5.6",
         "2.8",
         "4.9",
         "2.0",
         "virginica"
        ],
        [
         "7.7",
         "2.8",
         "6.7",
         "2.0",
         "virginica"
        ],
        [
         "6.3",
         "2.7",
         "4.9",
         "1.8",
         "virginica"
        ],
        [
         "6.7",
         "3.3",
         "5.7",
         "2.1",
         "virginica"
        ],
        [
         "7.2",
         "3.2",
         "6.0",
         "1.8",
         "virginica"
        ],
        [
         "6.2",
         "2.8",
         "4.8",
         "1.8",
         "virginica"
        ],
        [
         "6.1",
         "3.0",
         "4.9",
         "1.8",
         "virginica"
        ],
        [
         "6.4",
         "2.8",
         "5.6",
         "2.1",
         "virginica"
        ],
        [
         "7.2",
         "3.0",
         "5.8",
         "1.6",
         "virginica"
        ],
        [
         "7.4",
         "2.8",
         "6.1",
         "1.9",
         "virginica"
        ],
        [
         "7.9",
         "3.8",
         "6.4",
         "2.0",
         "virginica"
        ],
        [
         "6.4",
         "2.8",
         "5.6",
         "2.2",
         "virginica"
        ],
        [
         "6.3",
         "2.8",
         "5.1",
         "1.5",
         "virginica"
        ],
        [
         "6.1",
         "2.6",
         "5.6",
         "1.4",
         "virginica"
        ],
        [
         "7.7",
         "3.0",
         "6.1",
         "2.3",
         "virginica"
        ],
        [
         "6.3",
         "3.4",
         "5.6",
         "2.4",
         "virginica"
        ],
        [
         "6.4",
         "3.1",
         "5.5",
         "1.8",
         "virginica"
        ],
        [
         "6.0",
         "3.0",
         "4.8",
         "1.8",
         "virginica"
        ],
        [
         "6.9",
         "3.1",
         "5.4",
         "2.1",
         "virginica"
        ],
        [
         "6.7",
         "3.1",
         "5.6",
         "2.4",
         "virginica"
        ],
        [
         "6.9",
         "3.1",
         "5.1",
         "2.3",
         "virginica"
        ],
        [
         "5.8",
         "2.7",
         "5.1",
         "1.9",
         "virginica"
        ],
        [
         "6.8",
         "3.2",
         "5.9",
         "2.3",
         "virginica"
        ],
        [
         "6.7",
         "3.3",
         "5.7",
         "2.5",
         "virginica"
        ],
        [
         "6.7",
         "3.0",
         "5.2",
         "2.3",
         "virginica"
        ],
        [
         "6.3",
         "2.5",
         "5.0",
         "1.9",
         "virginica"
        ],
        [
         "6.5",
         "3.0",
         "5.2",
         "2.0",
         "virginica"
        ],
        [
         "6.2",
         "3.4",
         "5.4",
         "2.3",
         "virginica"
        ],
        [
         "5.9",
         "3.0",
         "5.1",
         "1.8",
         "virginica"
        ]
       ],
       "datasetInfos": [],
       "dbfsResultPath": null,
       "isJsonSchema": true,
       "metadata": {},
       "overflow": false,
       "plotOptions": {
        "customPlotOptions": {},
        "displayType": "table",
        "pivotAggregation": null,
        "pivotColumns": null,
        "xColumns": null,
        "yColumns": null
       },
       "removedWidgets": [],
       "schema": [
        {
         "metadata": "{}",
         "name": "_c0",
         "type": "\"string\""
        },
        {
         "metadata": "{}",
         "name": "_c1",
         "type": "\"string\""
        },
        {
         "metadata": "{}",
         "name": "_c2",
         "type": "\"string\""
        },
        {
         "metadata": "{}",
         "name": "_c3",
         "type": "\"string\""
        },
        {
         "metadata": "{}",
         "name": "_c4",
         "type": "\"string\""
        }
       ],
       "type": "table"
      }
     },
     "output_type": "display_data"
    }
   ],
   "source": [
    "# File location and type\n",
    "file_location = \"/FileStore/tables/iris_dataset-2.csv\"\n",
    "file_type = \"csv\"\n",
    "\n",
    "# CSV options\n",
    "infer_schema = \"false\"\n",
    "first_row_is_header = \"false\"\n",
    "delimiter = \",\"\n",
    "\n",
    "# The applied options are for CSV files. For other file types, these will be ignored.\n",
    "df = spark.read.format(file_type) \\\n",
    "  .option(\"inferSchema\", infer_schema) \\\n",
    "  .option(\"header\", first_row_is_header) \\\n",
    "  .option(\"sep\", delimiter) \\\n",
    "  .load(file_location)\n",
    "\n",
    "display(df)"
   ]
  },
  {
   "cell_type": "code",
   "execution_count": 0,
   "metadata": {
    "application/vnd.databricks.v1+cell": {
     "cellMetadata": {
      "byteLimit": 2048000,
      "rowLimit": 10000
     },
     "inputWidgets": {},
     "nuid": "bd82bb99-1479-4d5c-be10-8c36df0f1d44",
     "showTitle": false,
     "title": ""
    }
   },
   "outputs": [
    {
     "output_type": "display_data",
     "data": {
      "text/plain": [
       "\u001B[0;31m---------------------------------------------------------------------------\u001B[0m\n",
       "\u001B[0;31mAnalysisException\u001B[0m                         Traceback (most recent call last)\n",
       "File \u001B[0;32m<command-1964984066860220>:5\u001B[0m\n",
       "\u001B[1;32m      1\u001B[0m \u001B[38;5;66;03m# Create a view or table\u001B[39;00m\n",
       "\u001B[1;32m      3\u001B[0m temp_table_name \u001B[38;5;241m=\u001B[39m \u001B[38;5;124m\"\u001B[39m\u001B[38;5;124miris_dataset-2_csv\u001B[39m\u001B[38;5;124m\"\u001B[39m\n",
       "\u001B[0;32m----> 5\u001B[0m df\u001B[38;5;241m.\u001B[39mcreateOrReplaceTempView(temp_table_name)\n",
       "\n",
       "File \u001B[0;32m/databricks/spark/python/pyspark/instrumentation_utils.py:48\u001B[0m, in \u001B[0;36m_wrap_function.<locals>.wrapper\u001B[0;34m(*args, **kwargs)\u001B[0m\n",
       "\u001B[1;32m     46\u001B[0m start \u001B[38;5;241m=\u001B[39m time\u001B[38;5;241m.\u001B[39mperf_counter()\n",
       "\u001B[1;32m     47\u001B[0m \u001B[38;5;28;01mtry\u001B[39;00m:\n",
       "\u001B[0;32m---> 48\u001B[0m     res \u001B[38;5;241m=\u001B[39m \u001B[43mfunc\u001B[49m\u001B[43m(\u001B[49m\u001B[38;5;241;43m*\u001B[39;49m\u001B[43margs\u001B[49m\u001B[43m,\u001B[49m\u001B[43m \u001B[49m\u001B[38;5;241;43m*\u001B[39;49m\u001B[38;5;241;43m*\u001B[39;49m\u001B[43mkwargs\u001B[49m\u001B[43m)\u001B[49m\n",
       "\u001B[1;32m     49\u001B[0m     logger\u001B[38;5;241m.\u001B[39mlog_success(\n",
       "\u001B[1;32m     50\u001B[0m         module_name, class_name, function_name, time\u001B[38;5;241m.\u001B[39mperf_counter() \u001B[38;5;241m-\u001B[39m start, signature\n",
       "\u001B[1;32m     51\u001B[0m     )\n",
       "\u001B[1;32m     52\u001B[0m     \u001B[38;5;28;01mreturn\u001B[39;00m res\n",
       "\n",
       "File \u001B[0;32m/databricks/spark/python/pyspark/sql/dataframe.py:412\u001B[0m, in \u001B[0;36mDataFrame.createOrReplaceTempView\u001B[0;34m(self, name)\u001B[0m\n",
       "\u001B[1;32m    374\u001B[0m \u001B[38;5;28;01mdef\u001B[39;00m \u001B[38;5;21mcreateOrReplaceTempView\u001B[39m(\u001B[38;5;28mself\u001B[39m, name: \u001B[38;5;28mstr\u001B[39m) \u001B[38;5;241m-\u001B[39m\u001B[38;5;241m>\u001B[39m \u001B[38;5;28;01mNone\u001B[39;00m:\n",
       "\u001B[1;32m    375\u001B[0m     \u001B[38;5;124;03m\"\"\"Creates or replaces a local temporary view with this :class:`DataFrame`.\u001B[39;00m\n",
       "\u001B[1;32m    376\u001B[0m \n",
       "\u001B[1;32m    377\u001B[0m \u001B[38;5;124;03m    The lifetime of this temporary table is tied to the :class:`SparkSession`\u001B[39;00m\n",
       "\u001B[0;32m   (...)\u001B[0m\n",
       "\u001B[1;32m    410\u001B[0m \n",
       "\u001B[1;32m    411\u001B[0m \u001B[38;5;124;03m    \"\"\"\u001B[39;00m\n",
       "\u001B[0;32m--> 412\u001B[0m     \u001B[38;5;28;43mself\u001B[39;49m\u001B[38;5;241;43m.\u001B[39;49m\u001B[43m_jdf\u001B[49m\u001B[38;5;241;43m.\u001B[39;49m\u001B[43mcreateOrReplaceTempView\u001B[49m\u001B[43m(\u001B[49m\u001B[43mname\u001B[49m\u001B[43m)\u001B[49m\n",
       "\n",
       "File \u001B[0;32m/databricks/spark/python/lib/py4j-0.10.9.5-src.zip/py4j/java_gateway.py:1321\u001B[0m, in \u001B[0;36mJavaMember.__call__\u001B[0;34m(self, *args)\u001B[0m\n",
       "\u001B[1;32m   1315\u001B[0m command \u001B[38;5;241m=\u001B[39m proto\u001B[38;5;241m.\u001B[39mCALL_COMMAND_NAME \u001B[38;5;241m+\u001B[39m\\\n",
       "\u001B[1;32m   1316\u001B[0m     \u001B[38;5;28mself\u001B[39m\u001B[38;5;241m.\u001B[39mcommand_header \u001B[38;5;241m+\u001B[39m\\\n",
       "\u001B[1;32m   1317\u001B[0m     args_command \u001B[38;5;241m+\u001B[39m\\\n",
       "\u001B[1;32m   1318\u001B[0m     proto\u001B[38;5;241m.\u001B[39mEND_COMMAND_PART\n",
       "\u001B[1;32m   1320\u001B[0m answer \u001B[38;5;241m=\u001B[39m \u001B[38;5;28mself\u001B[39m\u001B[38;5;241m.\u001B[39mgateway_client\u001B[38;5;241m.\u001B[39msend_command(command)\n",
       "\u001B[0;32m-> 1321\u001B[0m return_value \u001B[38;5;241m=\u001B[39m \u001B[43mget_return_value\u001B[49m\u001B[43m(\u001B[49m\n",
       "\u001B[1;32m   1322\u001B[0m \u001B[43m    \u001B[49m\u001B[43manswer\u001B[49m\u001B[43m,\u001B[49m\u001B[43m \u001B[49m\u001B[38;5;28;43mself\u001B[39;49m\u001B[38;5;241;43m.\u001B[39;49m\u001B[43mgateway_client\u001B[49m\u001B[43m,\u001B[49m\u001B[43m \u001B[49m\u001B[38;5;28;43mself\u001B[39;49m\u001B[38;5;241;43m.\u001B[39;49m\u001B[43mtarget_id\u001B[49m\u001B[43m,\u001B[49m\u001B[43m \u001B[49m\u001B[38;5;28;43mself\u001B[39;49m\u001B[38;5;241;43m.\u001B[39;49m\u001B[43mname\u001B[49m\u001B[43m)\u001B[49m\n",
       "\u001B[1;32m   1324\u001B[0m \u001B[38;5;28;01mfor\u001B[39;00m temp_arg \u001B[38;5;129;01min\u001B[39;00m temp_args:\n",
       "\u001B[1;32m   1325\u001B[0m     temp_arg\u001B[38;5;241m.\u001B[39m_detach()\n",
       "\n",
       "File \u001B[0;32m/databricks/spark/python/pyspark/errors/exceptions.py:234\u001B[0m, in \u001B[0;36mcapture_sql_exception.<locals>.deco\u001B[0;34m(*a, **kw)\u001B[0m\n",
       "\u001B[1;32m    230\u001B[0m converted \u001B[38;5;241m=\u001B[39m convert_exception(e\u001B[38;5;241m.\u001B[39mjava_exception)\n",
       "\u001B[1;32m    231\u001B[0m \u001B[38;5;28;01mif\u001B[39;00m \u001B[38;5;129;01mnot\u001B[39;00m \u001B[38;5;28misinstance\u001B[39m(converted, UnknownException):\n",
       "\u001B[1;32m    232\u001B[0m     \u001B[38;5;66;03m# Hide where the exception came from that shows a non-Pythonic\u001B[39;00m\n",
       "\u001B[1;32m    233\u001B[0m     \u001B[38;5;66;03m# JVM exception message.\u001B[39;00m\n",
       "\u001B[0;32m--> 234\u001B[0m     \u001B[38;5;28;01mraise\u001B[39;00m converted \u001B[38;5;28;01mfrom\u001B[39;00m \u001B[38;5;28mNone\u001B[39m\n",
       "\u001B[1;32m    235\u001B[0m \u001B[38;5;28;01melse\u001B[39;00m:\n",
       "\u001B[1;32m    236\u001B[0m     \u001B[38;5;28;01mraise\u001B[39;00m\n",
       "\n",
       "\u001B[0;31mAnalysisException\u001B[0m: Invalid view name: iris_dataset-2_csv."
      ]
     },
     "metadata": {
      "application/vnd.databricks.v1+output": {
       "arguments": {},
       "data": "\u001B[0;31m---------------------------------------------------------------------------\u001B[0m\n\u001B[0;31mAnalysisException\u001B[0m                         Traceback (most recent call last)\nFile \u001B[0;32m<command-1964984066860220>:5\u001B[0m\n\u001B[1;32m      1\u001B[0m \u001B[38;5;66;03m# Create a view or table\u001B[39;00m\n\u001B[1;32m      3\u001B[0m temp_table_name \u001B[38;5;241m=\u001B[39m \u001B[38;5;124m\"\u001B[39m\u001B[38;5;124miris_dataset-2_csv\u001B[39m\u001B[38;5;124m\"\u001B[39m\n\u001B[0;32m----> 5\u001B[0m df\u001B[38;5;241m.\u001B[39mcreateOrReplaceTempView(temp_table_name)\n\nFile \u001B[0;32m/databricks/spark/python/pyspark/instrumentation_utils.py:48\u001B[0m, in \u001B[0;36m_wrap_function.<locals>.wrapper\u001B[0;34m(*args, **kwargs)\u001B[0m\n\u001B[1;32m     46\u001B[0m start \u001B[38;5;241m=\u001B[39m time\u001B[38;5;241m.\u001B[39mperf_counter()\n\u001B[1;32m     47\u001B[0m \u001B[38;5;28;01mtry\u001B[39;00m:\n\u001B[0;32m---> 48\u001B[0m     res \u001B[38;5;241m=\u001B[39m \u001B[43mfunc\u001B[49m\u001B[43m(\u001B[49m\u001B[38;5;241;43m*\u001B[39;49m\u001B[43margs\u001B[49m\u001B[43m,\u001B[49m\u001B[43m \u001B[49m\u001B[38;5;241;43m*\u001B[39;49m\u001B[38;5;241;43m*\u001B[39;49m\u001B[43mkwargs\u001B[49m\u001B[43m)\u001B[49m\n\u001B[1;32m     49\u001B[0m     logger\u001B[38;5;241m.\u001B[39mlog_success(\n\u001B[1;32m     50\u001B[0m         module_name, class_name, function_name, time\u001B[38;5;241m.\u001B[39mperf_counter() \u001B[38;5;241m-\u001B[39m start, signature\n\u001B[1;32m     51\u001B[0m     )\n\u001B[1;32m     52\u001B[0m     \u001B[38;5;28;01mreturn\u001B[39;00m res\n\nFile \u001B[0;32m/databricks/spark/python/pyspark/sql/dataframe.py:412\u001B[0m, in \u001B[0;36mDataFrame.createOrReplaceTempView\u001B[0;34m(self, name)\u001B[0m\n\u001B[1;32m    374\u001B[0m \u001B[38;5;28;01mdef\u001B[39;00m \u001B[38;5;21mcreateOrReplaceTempView\u001B[39m(\u001B[38;5;28mself\u001B[39m, name: \u001B[38;5;28mstr\u001B[39m) \u001B[38;5;241m-\u001B[39m\u001B[38;5;241m>\u001B[39m \u001B[38;5;28;01mNone\u001B[39;00m:\n\u001B[1;32m    375\u001B[0m     \u001B[38;5;124;03m\"\"\"Creates or replaces a local temporary view with this :class:`DataFrame`.\u001B[39;00m\n\u001B[1;32m    376\u001B[0m \n\u001B[1;32m    377\u001B[0m \u001B[38;5;124;03m    The lifetime of this temporary table is tied to the :class:`SparkSession`\u001B[39;00m\n\u001B[0;32m   (...)\u001B[0m\n\u001B[1;32m    410\u001B[0m \n\u001B[1;32m    411\u001B[0m \u001B[38;5;124;03m    \"\"\"\u001B[39;00m\n\u001B[0;32m--> 412\u001B[0m     \u001B[38;5;28;43mself\u001B[39;49m\u001B[38;5;241;43m.\u001B[39;49m\u001B[43m_jdf\u001B[49m\u001B[38;5;241;43m.\u001B[39;49m\u001B[43mcreateOrReplaceTempView\u001B[49m\u001B[43m(\u001B[49m\u001B[43mname\u001B[49m\u001B[43m)\u001B[49m\n\nFile \u001B[0;32m/databricks/spark/python/lib/py4j-0.10.9.5-src.zip/py4j/java_gateway.py:1321\u001B[0m, in \u001B[0;36mJavaMember.__call__\u001B[0;34m(self, *args)\u001B[0m\n\u001B[1;32m   1315\u001B[0m command \u001B[38;5;241m=\u001B[39m proto\u001B[38;5;241m.\u001B[39mCALL_COMMAND_NAME \u001B[38;5;241m+\u001B[39m\\\n\u001B[1;32m   1316\u001B[0m     \u001B[38;5;28mself\u001B[39m\u001B[38;5;241m.\u001B[39mcommand_header \u001B[38;5;241m+\u001B[39m\\\n\u001B[1;32m   1317\u001B[0m     args_command \u001B[38;5;241m+\u001B[39m\\\n\u001B[1;32m   1318\u001B[0m     proto\u001B[38;5;241m.\u001B[39mEND_COMMAND_PART\n\u001B[1;32m   1320\u001B[0m answer \u001B[38;5;241m=\u001B[39m \u001B[38;5;28mself\u001B[39m\u001B[38;5;241m.\u001B[39mgateway_client\u001B[38;5;241m.\u001B[39msend_command(command)\n\u001B[0;32m-> 1321\u001B[0m return_value \u001B[38;5;241m=\u001B[39m \u001B[43mget_return_value\u001B[49m\u001B[43m(\u001B[49m\n\u001B[1;32m   1322\u001B[0m \u001B[43m    \u001B[49m\u001B[43manswer\u001B[49m\u001B[43m,\u001B[49m\u001B[43m \u001B[49m\u001B[38;5;28;43mself\u001B[39;49m\u001B[38;5;241;43m.\u001B[39;49m\u001B[43mgateway_client\u001B[49m\u001B[43m,\u001B[49m\u001B[43m \u001B[49m\u001B[38;5;28;43mself\u001B[39;49m\u001B[38;5;241;43m.\u001B[39;49m\u001B[43mtarget_id\u001B[49m\u001B[43m,\u001B[49m\u001B[43m \u001B[49m\u001B[38;5;28;43mself\u001B[39;49m\u001B[38;5;241;43m.\u001B[39;49m\u001B[43mname\u001B[49m\u001B[43m)\u001B[49m\n\u001B[1;32m   1324\u001B[0m \u001B[38;5;28;01mfor\u001B[39;00m temp_arg \u001B[38;5;129;01min\u001B[39;00m temp_args:\n\u001B[1;32m   1325\u001B[0m     temp_arg\u001B[38;5;241m.\u001B[39m_detach()\n\nFile \u001B[0;32m/databricks/spark/python/pyspark/errors/exceptions.py:234\u001B[0m, in \u001B[0;36mcapture_sql_exception.<locals>.deco\u001B[0;34m(*a, **kw)\u001B[0m\n\u001B[1;32m    230\u001B[0m converted \u001B[38;5;241m=\u001B[39m convert_exception(e\u001B[38;5;241m.\u001B[39mjava_exception)\n\u001B[1;32m    231\u001B[0m \u001B[38;5;28;01mif\u001B[39;00m \u001B[38;5;129;01mnot\u001B[39;00m \u001B[38;5;28misinstance\u001B[39m(converted, UnknownException):\n\u001B[1;32m    232\u001B[0m     \u001B[38;5;66;03m# Hide where the exception came from that shows a non-Pythonic\u001B[39;00m\n\u001B[1;32m    233\u001B[0m     \u001B[38;5;66;03m# JVM exception message.\u001B[39;00m\n\u001B[0;32m--> 234\u001B[0m     \u001B[38;5;28;01mraise\u001B[39;00m converted \u001B[38;5;28;01mfrom\u001B[39;00m \u001B[38;5;28mNone\u001B[39m\n\u001B[1;32m    235\u001B[0m \u001B[38;5;28;01melse\u001B[39;00m:\n\u001B[1;32m    236\u001B[0m     \u001B[38;5;28;01mraise\u001B[39;00m\n\n\u001B[0;31mAnalysisException\u001B[0m: Invalid view name: iris_dataset-2_csv.",
       "errorSummary": "<span class='ansi-red-fg'>AnalysisException</span>: Invalid view name: iris_dataset-2_csv.",
       "errorTraceType": "ansi",
       "metadata": {},
       "type": "ipynbError"
      }
     },
     "output_type": "display_data"
    }
   ],
   "source": [
    "# Create a view or table\n",
    "\n",
    "temp_table_name = \"iris_dataset-2_csv\"\n",
    "\n",
    "df.createOrReplaceTempView(temp_table_name)"
   ]
  },
  {
   "cell_type": "code",
   "execution_count": 0,
   "metadata": {
    "application/vnd.databricks.v1+cell": {
     "cellMetadata": {
      "byteLimit": 2048000,
      "implicitDf": true,
      "rowLimit": 10000
     },
     "inputWidgets": {},
     "nuid": "b5f66379-6f7f-42ec-8e82-d0e0926a1721",
     "showTitle": false,
     "title": ""
    }
   },
   "outputs": [
    {
     "output_type": "display_data",
     "data": {
      "text/plain": [
       ""
      ]
     },
     "metadata": {
      "application/vnd.databricks.v1+output": {
       "arguments": {},
       "data": "",
       "errorSummary": "Command skipped",
       "errorTraceType": "ansi",
       "metadata": {},
       "type": "ipynbError"
      }
     },
     "output_type": "display_data"
    }
   ],
   "source": [
    "%sql\n",
    "\n",
    "/* Query the created temp table in a SQL cell */\n",
    "\n",
    "select * from `iris_dataset-2_csv`"
   ]
  },
  {
   "cell_type": "code",
   "execution_count": 0,
   "metadata": {
    "application/vnd.databricks.v1+cell": {
     "cellMetadata": {
      "byteLimit": 2048000,
      "rowLimit": 10000
     },
     "inputWidgets": {},
     "nuid": "db9631f6-bb4a-42ca-8a3c-0d48af932331",
     "showTitle": false,
     "title": ""
    }
   },
   "outputs": [
    {
     "output_type": "display_data",
     "data": {
      "text/plain": [
       ""
      ]
     },
     "metadata": {
      "application/vnd.databricks.v1+output": {
       "arguments": {},
       "data": "",
       "errorSummary": "Command skipped",
       "errorTraceType": "ansi",
       "metadata": {},
       "type": "ipynbError"
      }
     },
     "output_type": "display_data"
    }
   ],
   "source": [
    "# With this registered as a temp view, it will only be available to this particular notebook. If you'd like other users to be able to query this table, you can also create a table from the DataFrame.\n",
    "# Once saved, this table will persist across cluster restarts as well as allow various users across different notebooks to query this data.\n",
    "# To do so, choose your table name and uncomment the bottom line.\n",
    "\n",
    "permanent_table_name = \"iris_dataset-2_csv\"\n",
    "\n",
    "# df.write.format(\"parquet\").saveAsTable(permanent_table_name)"
   ]
  },
  {
   "cell_type": "code",
   "execution_count": 0,
   "metadata": {
    "application/vnd.databricks.v1+cell": {
     "cellMetadata": {
      "byteLimit": 2048000,
      "rowLimit": 10000
     },
     "inputWidgets": {},
     "nuid": "ba8574c9-47eb-4240-be45-51de0a586e93",
     "showTitle": false,
     "title": ""
    }
   },
   "outputs": [
    {
     "output_type": "display_data",
     "data": {
      "application/vnd.databricks.v1+bamboolib_hint": "{\"pd.DataFrames\": [], \"version\": \"0.0.1\"}",
      "text/plain": []
     },
     "metadata": {},
     "output_type": "display_data"
    },
    {
     "output_type": "display_data",
     "data": {
      "image/png": "[encoded data removed]"
     },
     "metadata": {
      "application/vnd.databricks.v1+output": {
       "addedWidgets": {},
       "arguments": {},
       "data": "data:image/png;base64,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\n",
       "datasetInfos": [],
       "metadata": {},
       "removedWidgets": [],
       "type": "image"
      }
     },
     "output_type": "display_data"
    }
   ],
   "source": [
    "# Import necessary libraries\n",
    "from pyspark.sql import SparkSession\n",
    "import pandas as pd\n",
    "from sklearn.decomposition import PCA\n",
    "from sklearn.preprocessing import StandardScaler\n",
    "import matplotlib.pyplot as plt\n",
    "import seaborn as sns\n",
    "\n",
    "# Initialize Spark session\n",
    "spark = SparkSession.builder.appName(\"IrisPCA\").getOrCreate()\n",
    "\n",
    "# Load the dataset using Spark\n",
    "df1 = spark.read.format(\"csv\").option(\"header\", \"true\").load(\"dbfs:/FileStore/shared_uploads/rutikdarda@gmail.com/iris_dataset.csv\")\n",
    "\n",
    "# Convert Spark DataFrame to Pandas DataFrame\n",
    "iris_df = df1.toPandas()\n",
    "\n",
    "# Preprocessing: Separate features and target\n",
    "X = iris_df.drop('species', axis=1)\n",
    "y = iris_df['species']\n",
    "\n",
    "# Convert features to numeric as they are read as objects\n",
    "X = X.apply(pd.to_numeric)\n",
    "\n",
    "# Standardizing the features\n",
    "scaler = StandardScaler()\n",
    "X_scaled = scaler.fit_transform(X)\n",
    "\n",
    "# Apply PCA to reduce the dataset to 2 dimensions\n",
    "pca = PCA(n_components=2)\n",
    "X_pca = pca.fit_transform(X_scaled)\n",
    "\n",
    "# Convert the PCA results to a DataFrame for easier plotting\n",
    "pca_df = pd.DataFrame(data = X_pca, columns = ['PC1', 'PC2'])\n",
    "pca_df = pd.concat([pca_df, y], axis = 1)\n",
    "\n",
    "# Plotting the PCA results\n",
    "plt.figure(figsize=(8,6))\n",
    "sns.scatterplot(x='PC1', y='PC2', hue='species', data=pca_df, palette='Set1')\n",
    "plt.title('PCA of Iris Dataset')\n",
    "plt.xlabel('Principal Component 1')\n",
    "plt.ylabel('Principal Component 2')\n",
    "plt.legend()\n",
    "plt.show()\n"
   ]
  }
 ],
 "metadata": {
  "application/vnd.databricks.v1+notebook": {
   "dashboards": [],
   "language": "python",
   "notebookMetadata": {
    "mostRecentlyExecutedCommandWithImplicitDF": {
     "commandId": 1964984066860221,
     "dataframes": [
      "_sqldf"
     ]
    },
    "pythonIndentUnit": 4
   },
   "notebookName": "2023-12-04 - DBFS Example (1)",
   "widgets": {}
  }
 },
 "nbformat": 4,
 "nbformat_minor": 0
}
